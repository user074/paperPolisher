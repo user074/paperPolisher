{
 "cells": [
  {
   "cell_type": "markdown",
   "metadata": {},
   "source": [
    "# Polish your entire paper with GPT for academic writing"
   ]
  },
  {
   "cell_type": "markdown",
   "metadata": {},
   "source": [
    "Firs put your paper content into a text file and put in the same directory as this file. Latex format is fine but there might be some bugs. I recommend using markdown."
   ]
  },
  {
   "cell_type": "markdown",
   "metadata": {},
   "source": [
    "<a href=\"https://colab.research.google.com/github/user074/paperPolisher/blob/main/paperPolisher.ipynb\">\n",
    "  <img src=\"https://colab.research.google.com/assets/colab-badge.svg\" alt=\"Open In Colab\"/>\n",
    "</a>"
   ]
  },
  {
   "cell_type": "markdown",
   "metadata": {},
   "source": [
    "## Setup"
   ]
  },
  {
   "cell_type": "code",
   "execution_count": null,
   "metadata": {},
   "outputs": [],
   "source": [
    "!pip install openai tiktoken"
   ]
  },
  {
   "cell_type": "code",
   "execution_count": 10,
   "metadata": {},
   "outputs": [],
   "source": [
    "import os\n",
    "import openai\n",
    "import tiktoken"
   ]
  },
  {
   "cell_type": "markdown",
   "metadata": {},
   "source": [
    "Then put your openai API key down here. Dont release it to public!"
   ]
  },
  {
   "cell_type": "code",
   "execution_count": 2,
   "metadata": {},
   "outputs": [],
   "source": [
    "openai.api_key = ('PUT_YOUR_API_KEY_HERE')"
   ]
  },
  {
   "cell_type": "markdown",
   "metadata": {},
   "source": [
    "Change the filename of 'YOUR_ORIGIONAL_PAPER_FILE_NAME.txt' to your paper filename."
   ]
  },
  {
   "cell_type": "code",
   "execution_count": 1,
   "metadata": {},
   "outputs": [],
   "source": [
    "filename = 'YOUR_ORIGIONAL_PAPER_FILE_NAME.txt'"
   ]
  },
  {
   "cell_type": "markdown",
   "metadata": {},
   "source": [
    "Run all the support functions below. Feel free to change things"
   ]
  },
  {
   "cell_type": "markdown",
   "metadata": {},
   "source": [
    "## Support functions"
   ]
  },
  {
   "cell_type": "code",
   "execution_count": 2,
   "metadata": {},
   "outputs": [],
   "source": [
    "\n",
    "def num_tokens_from_messages(messages, model=\"gpt-3.5-turbo-0613\"):\n",
    "  \"\"\"Returns the number of tokens used by a list of messages.\"\"\"\n",
    "  try:\n",
    "      encoding = tiktoken.encoding_for_model(model)\n",
    "  except KeyError:\n",
    "      encoding = tiktoken.get_encoding(\"cl100k_base\")\n",
    "  if model == \"gpt-3.5-turbo-0613\":  # note: future models may deviate from this\n",
    "      num_tokens = 0\n",
    "      for message in messages:\n",
    "          num_tokens += 4  # every message follows <im_start>{role/name}\\n{content}<im_end>\\n\n",
    "          for key, value in message.items():\n",
    "              num_tokens += len(encoding.encode(value))\n",
    "              if key == \"name\":  # if there's a name, the role is omitted\n",
    "                  num_tokens += -1  # role is always required and always 1 token\n",
    "      num_tokens += 2  # every reply is primed with <im_start>assistant\n",
    "      return num_tokens\n",
    "  else:\n",
    "      raise NotImplementedError(f\"\"\"num_tokens_from_messages() is not presently implemented for model {model}.\n",
    "  See https://github.com/openai/openai-python/blob/main/chatml.md for information on how messages are converted to tokens.\"\"\")"
   ]
  },
  {
   "cell_type": "code",
   "execution_count": 3,
   "metadata": {},
   "outputs": [],
   "source": [
    "#read text from file and convert to list of messages for openai api\n",
    "\n",
    "def read_text_from_file(filename):\n",
    "    with open(filename, 'r') as file:\n",
    "        text = file.read()\n",
    "    return text\n",
    "\n",
    "def convert_text_to_messages(text, user_instructions=None):\n",
    "    messages = [\n",
    "    {\"role\": \"system\", \"content\": \"You are an expert academic journal editor in CVPR, IEEE, and ACM.\\\n",
    "        You are helping a researcher to polish their paper.\\\n",
    "        You help researchers to improve their papers by correcting grammar, improving readability, and improving the overall quality of the paper.\\\n",
    "        You do not use passive voice, and you would eliminate first person pronouns in the correction process.\\\n",
    "        You try to be objective in your writing and avoid using personal opinions.\\\n",
    "        Your writing is formal and percise. You express concepts succinctly. \\\n",
    "        You are not responsible for the technical content of the paper and you do not change the technical content of the paper.\"},\n",
    "    # {\"role\": \"user\", \"content\": \"Help me to polish following text.\"},\n",
    "    ]\n",
    "    if user_instructions:\n",
    "        messages.extend([{\"role\": \"user\", \"content\": user_instructions} ])\n",
    "        \n",
    "    messages.extend([{\"role\": \"user\", \"content\": text} ])\n",
    "    return messages\n",
    "\n",
    "\n",
    "def convert_messages_to_text(messages):\n",
    "    text = ''\n",
    "    for message in messages:\n",
    "        if message['role'] == 'user':\n",
    "            text += 'Human: ' + message['text'] + '\\n'\n",
    "        elif message['role'] == 'assistant':\n",
    "            text += 'AI: ' + message['text'] + '\\n'\n",
    "    return text\n",
    "\n",
    "def write_text_to_file(text, filename):\n",
    "    with open(filename, 'w') as file:\n",
    "        file.write(text)\n",
    "\n",
    "def write_messages_to_file(messages, filename):\n",
    "    write_text_to_file(convert_messages_to_text(messages), filename)\n",
    "\n"
   ]
  },
  {
   "cell_type": "code",
   "execution_count": 4,
   "metadata": {},
   "outputs": [],
   "source": [
    "#count tokens in text\n",
    "def num_tokens_from_text(text, model = \"gpt-3.5-turbo-0613\"):\n",
    "    messages = convert_text_to_messages(text)\n",
    "    return num_tokens_from_messages(messages, model)"
   ]
  },
  {
   "cell_type": "code",
   "execution_count": 5,
   "metadata": {},
   "outputs": [],
   "source": [
    "#read the text file, then return a list of texts whereas each contains less than given number of tokens\n",
    "def split_text_into_list(text, max_tokens=4096):\n",
    "    messages = []\n",
    "    message = ''\n",
    "    for line in text.splitlines():\n",
    "        message_token = num_tokens_from_messages(convert_text_to_messages(message))\n",
    "        line_token = num_tokens_from_messages(convert_text_to_messages(line))\n",
    "        if message_token + line_token < max_tokens/2:\n",
    "            message += line + '\\n'\n",
    "        else:\n",
    "            messages.append(message)\n",
    "            message = line + '\\n'\n",
    "    messages.append(message)\n",
    "    return messages"
   ]
  },
  {
   "cell_type": "code",
   "execution_count": 6,
   "metadata": {},
   "outputs": [],
   "source": [
    "#call openai api to polish the text\n",
    "def polish_text(text, model = \"gpt-3.5-turbo\"):\n",
    "    user_instructions = \"Please help me to polish the following text for publication. Keep the text as origional LaTeX format.\"\n",
    "    messages = convert_text_to_messages(text, user_instructions=user_instructions)\n",
    "    response = openai.ChatCompletion.create(model=model, messages=messages)\n",
    "    return response"
   ]
  },
  {
   "cell_type": "code",
   "execution_count": 7,
   "metadata": {},
   "outputs": [],
   "source": [
    "#Polish an entire txt file then write the results into a new file\n",
    "def polish_text_file(filename, model = \"gpt-3.5-turbo\"):\n",
    "    text = read_text_from_file(filename)\n",
    "    paragraphs = split_text_into_list(text, max_tokens=4096)\n",
    "    polished_text = ''\n",
    "    for paragraph in paragraphs:\n",
    "        result = polish_text(paragraph, model)\n",
    "        polished_text += result['choices'][0][\"message\"][\"content\"]\n",
    "    return polished_text\n",
    "\n",
    "def write_text_to_file(text, filename):\n",
    "    with open(filename, 'w') as file:\n",
    "        file.write(text)\n",
    "\n",
    "def polish_text_file_to_file(filename, model = \"gpt-3.5-turbo\"):\n",
    "    text = polish_text_file(filename, model)\n",
    "    write_text_to_file(text, 'polished_' + filename)"
   ]
  },
  {
   "cell_type": "markdown",
   "metadata": {},
   "source": [
    "## Cost Estimation"
   ]
  },
  {
   "cell_type": "markdown",
   "metadata": {},
   "source": [
    "Estimate your cost before doing anything for free. This is a rough estimate. No API key required"
   ]
  },
  {
   "cell_type": "code",
   "execution_count": 8,
   "metadata": {},
   "outputs": [],
   "source": [
    "def cost_estimation(filename):\n",
    "    text = read_text_from_file(filename)\n",
    "    messages = convert_text_to_messages(text)\n",
    "    model = \"gpt-3.5-turbo-0613\"\n",
    "    paragraphs = split_text_into_list(text, max_tokens=4096)\n",
    "    estimated_cost = num_tokens_from_messages(messages, model) * (0.0015 + 0.002) / 1000\n",
    "    print(f\"{num_tokens_from_messages(messages, model)} prompt tokens counted.\")\n",
    "    print(f\"Number of paragraphs to process: {len(paragraphs)}\")\n",
    "    print(f\"Estimated cost using gpt-3.5-turbo: ${estimated_cost}\")"
   ]
  },
  {
   "cell_type": "code",
   "execution_count": 11,
   "metadata": {},
   "outputs": [
    {
     "name": "stdout",
     "output_type": "stream",
     "text": [
      "12804 prompt tokens counted.\n",
      "Number of paragraphs to process: 8\n",
      "Estimated cost using gpt-3.5-turbo: $0.044814\n"
     ]
    }
   ],
   "source": [
    "cost_estimation(filename)"
   ]
  },
  {
   "cell_type": "markdown",
   "metadata": {},
   "source": [
    "## Run the polisher"
   ]
  },
  {
   "cell_type": "markdown",
   "metadata": {},
   "source": [
    "Just run 'polish_text_file_to_file' with the 'YOUR_ORIGIONAL_PAPER_FILE_NAME.txt'. The polished version would be polished_YOUR_ORIGIONAL_PAPER_FILE_NAME.txt. It might take about 3-5 minutes."
   ]
  },
  {
   "cell_type": "code",
   "execution_count": 91,
   "metadata": {},
   "outputs": [],
   "source": [
    "polish_text_file_to_file(filename)"
   ]
  }
 ],
 "metadata": {
  "kernelspec": {
   "display_name": "aiColab",
   "language": "python",
   "name": "python3"
  },
  "language_info": {
   "codemirror_mode": {
    "name": "ipython",
    "version": 3
   },
   "file_extension": ".py",
   "mimetype": "text/x-python",
   "name": "python",
   "nbconvert_exporter": "python",
   "pygments_lexer": "ipython3",
   "version": "3.11.4"
  },
  "orig_nbformat": 4
 },
 "nbformat": 4,
 "nbformat_minor": 2
}
